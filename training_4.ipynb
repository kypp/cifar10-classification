{
 "cells": [
  {
   "cell_type": "code",
   "execution_count": 1,
   "metadata": {
    "collapsed": false,
    "scrolled": true
   },
   "outputs": [
    {
     "name": "stdout",
     "output_type": "stream",
     "text": [
      "Populating the interactive namespace from numpy and matplotlib\n"
     ]
    }
   ],
   "source": [
    "%pylab inline"
   ]
  },
  {
   "cell_type": "code",
   "execution_count": 2,
   "metadata": {
    "collapsed": false
   },
   "outputs": [
    {
     "name": "stderr",
     "output_type": "stream",
     "text": [
      "Using gpu device 0: GeForce GTX 580 (CNMeM is enabled)\n"
     ]
    }
   ],
   "source": [
    "import cifar"
   ]
  },
  {
   "cell_type": "code",
   "execution_count": 5,
   "metadata": {
    "collapsed": false,
    "scrolled": false
   },
   "outputs": [
    {
     "name": "stdout",
     "output_type": "stream",
     "text": [
      "Loading data...\n",
      "Starting training...\n",
      "Epoch 1 of 50 took 85.489s\n",
      "  training loss:\t\t2.154933\n",
      "  validation loss:\t\t1.868225\n",
      "  validation accuracy:\t\t31.38 %\n",
      "Epoch 2 of 50 took 85.305s\n",
      "  training loss:\t\t1.784918\n",
      "  validation loss:\t\t1.573457\n",
      "  validation accuracy:\t\t42.85 %\n",
      "Epoch 3 of 50 took 84.706s\n",
      "  training loss:\t\t1.571922\n",
      "  validation loss:\t\t1.442402\n",
      "  validation accuracy:\t\t47.49 %\n",
      "Epoch 4 of 50 took 84.956s\n",
      "  training loss:\t\t1.459944\n",
      "  validation loss:\t\t1.346489\n",
      "  validation accuracy:\t\t51.21 %\n",
      "Epoch 5 of 50 took 85.370s\n",
      "  training loss:\t\t1.376790\n",
      "  validation loss:\t\t1.253830\n",
      "  validation accuracy:\t\t55.03 %\n",
      "Epoch 6 of 50 took 85.156s\n",
      "  training loss:\t\t1.299511\n",
      "  validation loss:\t\t1.173716\n",
      "  validation accuracy:\t\t58.01 %\n",
      "Epoch 7 of 50 took 85.483s\n",
      "  training loss:\t\t1.236792\n",
      "  validation loss:\t\t1.125117\n",
      "  validation accuracy:\t\t60.11 %\n",
      "Epoch 8 of 50 took 84.174s\n",
      "  training loss:\t\t1.180474\n",
      "  validation loss:\t\t1.190274\n",
      "  validation accuracy:\t\t58.17 %\n",
      "Epoch 9 of 50 took 83.754s\n",
      "  training loss:\t\t1.126789\n",
      "  validation loss:\t\t1.038104\n",
      "  validation accuracy:\t\t63.58 %\n",
      "Epoch 10 of 50 took 85.336s\n",
      "  training loss:\t\t1.082201\n",
      "  validation loss:\t\t0.976349\n",
      "  validation accuracy:\t\t66.37 %\n",
      "Epoch 11 of 50 took 84.747s\n",
      "  training loss:\t\t1.027618\n",
      "  validation loss:\t\t0.965695\n",
      "  validation accuracy:\t\t66.40 %\n",
      "Epoch 12 of 50 took 84.441s\n",
      "  training loss:\t\t0.993643\n",
      "  validation loss:\t\t0.930554\n",
      "  validation accuracy:\t\t67.51 %\n",
      "Epoch 13 of 50 took 84.668s\n",
      "  training loss:\t\t0.958579\n",
      "  validation loss:\t\t0.942505\n",
      "  validation accuracy:\t\t67.41 %\n",
      "Epoch 14 of 50 took 84.573s\n",
      "  training loss:\t\t0.923336\n",
      "  validation loss:\t\t0.861704\n",
      "  validation accuracy:\t\t69.96 %\n",
      "Epoch 15 of 50 took 85.368s\n",
      "  training loss:\t\t0.890370\n",
      "  validation loss:\t\t0.854332\n",
      "  validation accuracy:\t\t70.21 %\n",
      "Epoch 16 of 50 took 85.184s\n",
      "  training loss:\t\t0.863585\n",
      "  validation loss:\t\t0.813384\n",
      "  validation accuracy:\t\t72.03 %\n",
      "Epoch 17 of 50 took 85.562s\n",
      "  training loss:\t\t0.831472\n",
      "  validation loss:\t\t0.818448\n",
      "  validation accuracy:\t\t71.41 %\n",
      "Epoch 18 of 50 took 85.418s\n",
      "  training loss:\t\t0.813078\n",
      "  validation loss:\t\t0.779506\n",
      "  validation accuracy:\t\t73.01 %\n",
      "Epoch 19 of 50 took 85.421s\n",
      "  training loss:\t\t0.789828\n",
      "  validation loss:\t\t0.766211\n",
      "  validation accuracy:\t\t73.16 %\n",
      "Epoch 20 of 50 took 85.339s\n",
      "  training loss:\t\t0.763107\n",
      "  validation loss:\t\t0.743127\n",
      "  validation accuracy:\t\t74.34 %\n",
      "Epoch 21 of 50 took 85.203s\n",
      "  training loss:\t\t0.740728\n",
      "  validation loss:\t\t0.764486\n",
      "  validation accuracy:\t\t73.31 %\n",
      "Epoch 22 of 50 took 85.372s\n",
      "  training loss:\t\t0.722976\n",
      "  validation loss:\t\t0.739731\n",
      "  validation accuracy:\t\t74.50 %\n",
      "Epoch 23 of 50 took 85.606s\n",
      "  training loss:\t\t0.703700\n",
      "  validation loss:\t\t0.731531\n",
      "  validation accuracy:\t\t74.62 %\n",
      "Epoch 24 of 50 took 85.797s\n",
      "  training loss:\t\t0.677755\n",
      "  validation loss:\t\t0.714420\n",
      "  validation accuracy:\t\t75.03 %\n",
      "Epoch 25 of 50 took 85.053s\n",
      "  training loss:\t\t0.660205\n",
      "  validation loss:\t\t0.710223\n",
      "  validation accuracy:\t\t75.25 %\n",
      "Epoch 26 of 50 took 84.856s\n",
      "  training loss:\t\t0.642432\n",
      "  validation loss:\t\t0.689213\n",
      "  validation accuracy:\t\t76.23 %\n",
      "Epoch 27 of 50 took 85.647s\n",
      "  training loss:\t\t0.629862\n",
      "  validation loss:\t\t0.688368\n",
      "  validation accuracy:\t\t76.21 %\n",
      "Epoch 28 of 50 took 85.181s\n",
      "  training loss:\t\t0.608382\n",
      "  validation loss:\t\t0.713011\n",
      "  validation accuracy:\t\t75.07 %\n",
      "Epoch 29 of 50 took 85.000s\n",
      "  training loss:\t\t0.592359\n",
      "  validation loss:\t\t0.678485\n",
      "  validation accuracy:\t\t76.76 %\n",
      "Epoch 30 of 50 took 85.578s\n",
      "  training loss:\t\t0.579513\n",
      "  validation loss:\t\t0.673826\n",
      "  validation accuracy:\t\t76.39 %\n",
      "Epoch 31 of 50 took 85.340s\n",
      "  training loss:\t\t0.561833\n",
      "  validation loss:\t\t0.694572\n",
      "  validation accuracy:\t\t76.63 %\n",
      "Epoch 32 of 50 took 84.857s\n",
      "  training loss:\t\t0.552283\n",
      "  validation loss:\t\t0.652331\n",
      "  validation accuracy:\t\t77.71 %\n",
      "Epoch 33 of 50 took 85.197s\n",
      "  training loss:\t\t0.529209\n",
      "  validation loss:\t\t0.662939\n",
      "  validation accuracy:\t\t77.38 %\n",
      "Epoch 34 of 50 took 84.803s\n",
      "  training loss:\t\t0.520605\n",
      "  validation loss:\t\t0.654775\n",
      "  validation accuracy:\t\t77.58 %\n",
      "Epoch 35 of 50 took 84.598s\n",
      "  training loss:\t\t0.508474\n",
      "  validation loss:\t\t0.672701\n",
      "  validation accuracy:\t\t76.80 %\n",
      "Epoch 36 of 50 took 84.984s\n",
      "  training loss:\t\t0.491023\n",
      "  validation loss:\t\t0.658121\n",
      "  validation accuracy:\t\t77.42 %\n",
      "Epoch 37 of 50 took 85.273s\n",
      "  training loss:\t\t0.480137\n",
      "  validation loss:\t\t0.642064\n",
      "  validation accuracy:\t\t78.21 %\n",
      "Epoch 38 of 50 took 85.021s\n",
      "  training loss:\t\t0.461136\n",
      "  validation loss:\t\t0.650760\n",
      "  validation accuracy:\t\t78.20 %\n",
      "Epoch 39 of 50 took 85.029s\n",
      "  training loss:\t\t0.454751\n",
      "  validation loss:\t\t0.638034\n",
      "  validation accuracy:\t\t78.66 %\n",
      "Epoch 40 of 50 took 84.941s\n",
      "  training loss:\t\t0.440100\n",
      "  validation loss:\t\t0.624801\n",
      "  validation accuracy:\t\t78.76 %\n",
      "Epoch 41 of 50 took 84.977s\n",
      "  training loss:\t\t0.427819\n",
      "  validation loss:\t\t0.638368\n",
      "  validation accuracy:\t\t78.41 %\n",
      "Epoch 42 of 50 took 85.254s\n",
      "  training loss:\t\t0.422983\n",
      "  validation loss:\t\t0.632641\n",
      "  validation accuracy:\t\t78.45 %\n",
      "Epoch 43 of 50 took 85.452s\n",
      "  training loss:\t\t0.411314\n",
      "  validation loss:\t\t0.617185\n",
      "  validation accuracy:\t\t79.34 %\n",
      "Epoch 44 of 50 took 85.383s\n",
      "  training loss:\t\t0.390154\n",
      "  validation loss:\t\t0.642237\n",
      "  validation accuracy:\t\t78.53 %\n",
      "Epoch 45 of 50 took 85.462s\n",
      "  training loss:\t\t0.388342\n",
      "  validation loss:\t\t0.641523\n",
      "  validation accuracy:\t\t78.43 %\n",
      "Epoch 46 of 50 took 85.561s\n",
      "  training loss:\t\t0.384198\n",
      "  validation loss:\t\t0.632716\n",
      "  validation accuracy:\t\t78.64 %\n",
      "Epoch 47 of 50 took 85.542s\n",
      "  training loss:\t\t0.355627\n",
      "  validation loss:\t\t0.630217\n",
      "  validation accuracy:\t\t79.01 %\n",
      "Epoch 48 of 50 took 85.970s\n",
      "  training loss:\t\t0.352701\n",
      "  validation loss:\t\t0.633534\n",
      "  validation accuracy:\t\t78.59 %\n",
      "Epoch 49 of 50 took 84.369s\n",
      "  training loss:\t\t0.338555\n",
      "  validation loss:\t\t0.618174\n",
      "  validation accuracy:\t\t79.50 %\n",
      "Epoch 50 of 50 took 85.291s\n",
      "  training loss:\t\t0.336963\n",
      "  validation loss:\t\t0.638931\n",
      "  validation accuracy:\t\t78.89 %\n",
      "Final results:\n",
      "  test loss:\t\t\t0.661364\n",
      "  test accuracy:\t\t78.20 %\n"
     ]
    }
   ],
   "source": [
    "results = cifar.train_cifar(50, 200)"
   ]
  },
  {
   "cell_type": "code",
   "execution_count": 6,
   "metadata": {
    "collapsed": false
   },
   "outputs": [
    {
     "data": {
      "text/plain": [
       "[<matplotlib.lines.Line2D at 0x7f0ae36124d0>]"
      ]
     },
     "execution_count": 6,
     "metadata": {},
     "output_type": "execute_result"
    },
    {
     "data": {
      "image/png": "[encoded data removed]",
      "text/plain": [
       "<matplotlib.figure.Figure at 0x7f0ae35d2a10>"
      ]
     },
     "metadata": {},
     "output_type": "display_data"
    }
   ],
   "source": [
    "title(\"Validation accuracy\")\n",
    "xlabel(\"epoch\")\n",
    "ylabel(\"accuracy [%]\")\n",
    "plot(array(results[0])/results[1]*100)"
   ]
  }
 ],
 "metadata": {
  "kernelspec": {
   "display_name": "Python 2",
   "language": "python",
   "name": "python2"
  },
  "language_info": {
   "codemirror_mode": {
    "name": "ipython",
    "version": 2
   },
   "file_extension": ".py",
   "mimetype": "text/x-python",
   "name": "python",
   "nbconvert_exporter": "python",
   "pygments_lexer": "ipython2",
   "version": "2.7.11"
  }
 },
 "nbformat": 4,
 "nbformat_minor": 0
}
